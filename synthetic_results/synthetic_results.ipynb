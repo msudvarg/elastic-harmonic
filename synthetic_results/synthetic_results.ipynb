{
 "cells": [
  {
   "cell_type": "markdown",
   "metadata": {},
   "source": [
    "# S.VI.D, Fig.8: Evaluation with Larger Synthetic Task Sets\n",
    "\n",
    "This notebook describes how to recreate the results shown in Figure 8 of Section VI.D: \"Evaluation with Larger Synthetic Task Sets.\"\n",
    "\n",
    "Source and header files include:\n",
    "* `harmonic.h`: Provides the `Harmonic_Elastic` class, which encapsulates generating the complete set of projected harmonic intervals, and the corresponding lookup table, for a set of tasks. \n",
    "* `task.h`: Provides the `Task` data structure, which encapsulates the elastic task parameters. \n",
    "* `synthetic_tasksets.cc`: A wrapper to randomly generate task sets and collect data.\n",
    "* `harmonic.cc`: Implements functionality for the `Harmonic_Elastic` class, including all algorithms listed in the paper.\n",
    "* `task.cc`: Implements an information printing function for the `Task` structure."
   ]
  },
  {
   "cell_type": "markdown",
   "metadata": {},
   "source": [
    "## To Build"
   ]
  },
  {
   "cell_type": "code",
   "execution_count": null,
   "metadata": {},
   "outputs": [],
   "source": [
    "%%sh\n",
    "cd ..\n",
    "make synthetic"
   ]
  },
  {
   "cell_type": "markdown",
   "metadata": {},
   "source": [
    "## Generate Results\n",
    "\n",
    "We have already provided the results data in the file `synthetic_results/synthetic_results.txt`. This can be reproduced by running the following:"
   ]
  },
  {
   "cell_type": "code",
   "execution_count": null,
   "metadata": {},
   "outputs": [],
   "source": [
    "%%sh\n",
    "./synthetic 1000 > synthetic_results/synthetic_results.txt"
   ]
  },
  {
   "cell_type": "markdown",
   "metadata": {},
   "source": [
    "Output column values are:\n",
    "* Number of tasks\n",
    "* Task set index for that number (1--1000)\n",
    "* Does a feasible harmonic period assignment exist (0/1)\n",
    "* The number of projected harmonic zones into the last interval\n",
    "* Execution time to run Algorithm 1 ($\\mu$s) \n",
    "\n",
    "The remaining columns are only generated if harmonic periods were found.\n",
    "* Number of projected harmonic intervals\n",
    "* Number of intersecting regions generated in lookup table\n",
    "* Execution time to generate the intervals and lookup table ($\\mu$s)\n",
    "* Execution time to search the lookup table and assign periods (ns)\n",
    "* Execution time to use naive enumeration over all projected harmonic intervals to get the best for a given utilization, then adjust periods ($\\mu$s)\n",
    "\n",
    "## Plot and Analyze Results\n",
    "\n",
    "The following steps will produce the plots in the paper."
   ]
  },
  {
   "cell_type": "code",
   "execution_count": null,
   "metadata": {},
   "outputs": [],
   "source": [
    "# Import Packages\n",
    "\n",
    "import numpy as np\n",
    "import matplotlib.pyplot as plt\n",
    "import pandas as pd\n",
    "import seaborn as sns"
   ]
  },
  {
   "cell_type": "code",
   "execution_count": null,
   "metadata": {},
   "outputs": [],
   "source": [
    "# Define Style for Plotting\n",
    "\n",
    "# Use the fivethirtyeight style\n",
    "plt.style.use('fivethirtyeight')\n",
    "\n",
    "# Define a palette\n",
    "colors = sns.color_palette(\"deep\", 5)"
   ]
  },
  {
   "cell_type": "code",
   "execution_count": null,
   "metadata": {},
   "outputs": [],
   "source": [
    "# Import Data\n",
    "\n",
    "df = pd.read_table(\"synthetic_results.txt\", delimiter=' ', header=None, )\n",
    "df.fillna(0, inplace=True)\n",
    "data = df.values[:,0:10]\n",
    "\n",
    "max_tasks = 50\n",
    "n_tasks = np.arange(5,max_tasks+1)\n"
   ]
  },
  {
   "cell_type": "markdown",
   "metadata": {},
   "source": [
    "### The Harmonic Period Problem\n",
    "\n",
    "We first evaluate the proposed approach to the harmonic period problem described in Section IV.B. For each number of tasks, we count how many of the 1000 corresponding sets had a feasible harmonic period assignment, how long it took to find such an assignment, and how many harmonic zones were projected onto the last interval.\n",
    "\n",
    "#### Figure 8a\n",
    "\n",
    "The following code plots Figure 8a, indicating for each size task set (from 5--50) how many of the 1000 generated had a feasible harmonic period selection."
   ]
  },
  {
   "cell_type": "code",
   "execution_count": null,
   "metadata": {},
   "outputs": [],
   "source": [
    "harmonic = data[:,2].reshape(max_tasks-4,1000)\n",
    "harmonic = np.sum(harmonic, axis=1)\n",
    "\n",
    "font = {'size'   : 13}\n",
    "plt.rc('font', **font)\n",
    "\n",
    "fig, ax1 = plt.subplots(figsize=(4.6, 2.8))\n",
    "\n",
    "ax1.plot(n_tasks, harmonic, \"-\", color=colors[0], linewidth=2)\n",
    "ax1.set_ylim(-50,1050)\n",
    "ax1.set_xticks(np.arange(5,max_tasks+1,5))\n",
    "\n",
    "ax1.set_xlabel(\"# Tasks\")\n",
    "ylabel = ax1.set_ylabel(\"# Harmonic Assign.\")\n",
    "label_position = ylabel.get_position()\n",
    "ylabel.set_position((label_position[0], label_position[1] - 0.1))\n",
    "\n",
    "plt.tight_layout()\n",
    "name = \"synthetic_num_harmonic\"\n",
    "plt.savefig(f\"{name}.eps\",bbox_inches='tight')\n",
    "plt.savefig(f\"{name}.png\",bbox_inches='tight')"
   ]
  },
  {
   "cell_type": "code",
   "execution_count": null,
   "metadata": {},
   "outputs": [],
   "source": [
    "# Generate Data for Fig 8b, 8c, 8d\n",
    "\n",
    "#Maximum number of harmonic zones projected onto the last interval\n",
    "n_projections = data[:,3].reshape(max_tasks-4,1000)\n",
    "n_projections = np.max(n_projections, axis=1)\n",
    "\n",
    "#Time to run Algorithm 1\n",
    "harmonic_times = data[:,4].reshape(max_tasks-4,1000)\n",
    "harmonic_times = np.max(harmonic_times, axis=1)\n",
    "\n",
    "#Maximum number of projected harmonic intervals\n",
    "n_phis = data[:,5].reshape(max_tasks-4,1000)\n",
    "n_phis = np.max(n_phis, axis=1)\n",
    "\n",
    "#Maximum number of regions in lookup table\n",
    "n_regions = data[:,6].reshape(max_tasks-4,1000)\n",
    "n_regions = np.max(n_regions, axis=1)\n",
    "\n",
    "#Maximum time to generate lookup table\n",
    "elastic_times_generate = data[:,7].reshape(max_tasks-4,1000)\n",
    "elastic_times_generate = np.max(elastic_times_generate, axis=1)\n",
    "\n",
    "#Maximum time to use lookup table\n",
    "elastic_times_fast = data[:,8].reshape(max_tasks-4,1000) #ns\n",
    "elastic_times_fast = np.max(elastic_times_fast, axis=1)\n",
    "\n",
    "#Maximum time to iterate harmonic intervals (naive method)\n",
    "elastic_times_naive = data[:,9].reshape(max_tasks-4,1000)\n",
    "elastic_times_naive = np.max(elastic_times_naive, axis=1)\n",
    "\n",
    "#Times collected in microseconds, use unit conversions where appropriate\n",
    "ms = 1000\n",
    "s = 1000000"
   ]
  },
  {
   "cell_type": "markdown",
   "metadata": {},
   "source": [
    "#### Figure 8b\n",
    "\n",
    "The following code generates Figure 8b. It both plots the maximum number of harmonic zones projected onto the last task's period interval for each size, as well as the maximum execution time of Algorithm 1 in Section IV.B."
   ]
  },
  {
   "cell_type": "code",
   "execution_count": null,
   "metadata": {},
   "outputs": [],
   "source": [
    "font = {'size'   : 13}\n",
    "plt.rc('font', **font)\n",
    "\n",
    "fig, ax1 = plt.subplots(figsize=(4.6, 2.8))\n",
    "\n",
    "ax1.set_xlabel(\"# Tasks\")\n",
    "ax1.set_xticks(np.arange(5,max_tasks+1,5))\n",
    "\n",
    "color = colors[0]\n",
    "ax1.set_ylabel(\"Max Zones\", color=color)\n",
    "ax1.plot(n_tasks, n_projections, \"-\", color=color, linewidth=2)\n",
    "ax1.set_ylim(0,np.max(n_projections)*1.05)\n",
    "\n",
    "ax2 = ax1.twinx()\n",
    "\n",
    "color = colors[1]\n",
    "ax2.set_ylabel(\"Max Time (ms)\", color=color)\n",
    "ax2.plot(n_tasks, harmonic_times/ms, \"--\", color=color, linewidth=2)\n",
    "ax2.set_ylim(0,np.max(harmonic_times/ms)*1.05)\n",
    "\n",
    "plt.tight_layout()\n",
    "name = \"synthetic_projected_harmonic_zones\"\n",
    "plt.savefig(f\"{name}.eps\",bbox_inches='tight')\n",
    "plt.savefig(f\"{name}.png\",bbox_inches='tight')"
   ]
  },
  {
   "cell_type": "markdown",
   "metadata": {},
   "source": [
    "#### Maximum execution time\n",
    "\n",
    "We also obtain the maximum execution time for Algorithm 1"
   ]
  },
  {
   "cell_type": "code",
   "execution_count": null,
   "metadata": {},
   "outputs": [],
   "source": [
    "\n",
    "print(f\"Maximum execution time of Algorithm 1: {np.max(harmonic_times)/ms} ms\")"
   ]
  },
  {
   "cell_type": "markdown",
   "metadata": {},
   "source": [
    "### The Ordered Harmonic Elastic Problem\n",
    "\n",
    "We then evaluate both the naive and efficient approaches to the ordered harmonic elastic problem described in Section V. For those task sets where a harmonic assignment is possible, we count how many projected harmonic intervals (PHIs) are found, how long it takes to generate the lookup table (LUT), and how many entries it has. We also compare the time it takes to iterate over all PHIs to find the optimal period assignment, versus performing binary search. \n",
    "\n",
    "#### Figure 8c\n",
    "\n",
    "The following code generates Figure 8c. It plots the maximum number of PHIs, the time to generate the lookup table, and the time to perform the naive search for the best PHI for a given utilization via enumeration."
   ]
  },
  {
   "cell_type": "code",
   "execution_count": null,
   "metadata": {},
   "outputs": [],
   "source": [
    "font = {'size'   : 13}\n",
    "plt.rc('font', **font)\n",
    "\n",
    "fig, ax1 = plt.subplots(figsize=(4.6, 2.8))\n",
    "\n",
    "ax1.set_xlabel(\"# Tasks\")\n",
    "ax1.set_xticks(np.arange(5,max_tasks+1,5))\n",
    "\n",
    "color = colors[0]\n",
    "ax1.set_ylabel(\"Max PHIs\", color=color)\n",
    "ax1.plot(n_tasks, n_phis, \"-\", color=color, linewidth=2)\n",
    "ax1.set_ylim(0,np.max(n_phis)*1.05)\n",
    "\n",
    "ax2 = ax1.twinx()\n",
    "\n",
    "color = colors[1]\n",
    "ax2.set_ylabel(\"Max Time\", color=color)\n",
    "ax2.plot(n_tasks, elastic_times_generate/s, \"--\", color=color, label=\"Gen LUT (s)\", linewidth=2)\n",
    "ax2.plot(n_tasks, elastic_times_naive/ms, \"-.\", color='green', label=\"Naive Search (ms)\", linewidth=2)\n",
    "ax2.set_ylim(0,np.max(elastic_times_generate/s)*1.05)\n",
    "\n",
    "plt.legend(loc='upper left', framealpha=1.0)\n",
    "\n",
    "plt.tight_layout()\n",
    "name = \"synthetic_projected_harmonic_intervals\"\n",
    "plt.savefig(f\"{name}.eps\",bbox_inches='tight')\n",
    "plt.savefig(f\"{name}.png\",bbox_inches='tight')"
   ]
  },
  {
   "cell_type": "markdown",
   "metadata": {},
   "source": [
    "#### Figure 8d\n",
    "\n",
    "The following code generates Figure 8d. It plots the maximum number of PHIs, the time to generate the lookup table, and the time to perform the naive search for the best PHI for a given utilization via enumeration."
   ]
  },
  {
   "cell_type": "code",
   "execution_count": null,
   "metadata": {},
   "outputs": [],
   "source": [
    "font = {'size'   : 13}\n",
    "plt.rc('font', **font)\n",
    "\n",
    "fig, ax1 = plt.subplots(figsize=(4.6, 2.8))\n",
    "\n",
    "ax1.set_xlabel(\"# Tasks\")\n",
    "ax1.set_xticks(np.arange(5,max_tasks+1,5))\n",
    "\n",
    "color = colors[0]\n",
    "ax1.set_ylabel(\"Max LUT Size\", color=color)\n",
    "ax1.plot(n_tasks, n_regions, \"-\", color=color, linewidth=2)\n",
    "ax1.set_ylim(0,np.max(n_regions)*1.05)\n",
    "\n",
    "ax2 = ax1.twinx()\n",
    "\n",
    "color = colors[1]\n",
    "ax2.set_ylabel(\"Max Time ($\\\\mu$s)\", color=color)\n",
    "ax2.plot(n_tasks, elastic_times_fast/1000, \"--\", color=color, linewidth=2)\n",
    "ax2.set_ylim(0,np.max(elastic_times_fast/1000)*1.05)\n",
    "\n",
    "plt.tight_layout()\n",
    "name = \"synthetic_lookup_table\"\n",
    "plt.savefig(f\"{name}.eps\",bbox_inches='tight')\n",
    "plt.savefig(f\"{name}.png\",bbox_inches='tight')"
   ]
  },
  {
   "cell_type": "markdown",
   "metadata": {},
   "source": [
    "#### Statistics\n",
    "\n",
    "We also report a few additional statististics."
   ]
  },
  {
   "cell_type": "code",
   "execution_count": null,
   "metadata": {},
   "outputs": [],
   "source": [
    "\n",
    "print(f\"Maximum time to perform naive search over all projected harmonic intervals: {np.max(elastic_times_naive)/ms} ms\")\n",
    "print(f\"Maximum time to generate the lookup table: {np.max(elastic_times_generate/s/60)} minutes\")\n",
    "print(f\"Maximum time to search lookup table and assigned new periods: {np.max(elastic_times_fast)/1000} us\")"
   ]
  }
 ],
 "metadata": {
  "kernelspec": {
   "display_name": "Python 3",
   "language": "python",
   "name": "python3"
  },
  "language_info": {
   "codemirror_mode": {
    "name": "ipython",
    "version": 3
   },
   "file_extension": ".py",
   "mimetype": "text/x-python",
   "name": "python",
   "nbconvert_exporter": "python",
   "pygments_lexer": "ipython3",
   "version": "3.9.18"
  }
 },
 "nbformat": 4,
 "nbformat_minor": 2
}
