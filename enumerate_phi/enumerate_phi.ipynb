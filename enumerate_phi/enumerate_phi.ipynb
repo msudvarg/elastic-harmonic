{
 "cells": [
  {
   "cell_type": "markdown",
   "metadata": {},
   "source": [
    "# S.5, Fig.4: Enumeration of Projected Harmonic Intervals\n",
    "\n",
    "This notebook describes how to recreate the results shown in Figure 4 of Section V: \"The Ordered Harmonic Elastic Problem.\"\n",
    "\n",
    "Source and header files include:\n",
    "* `enumerate_phi.cc`: Enumerates the number of possible projected harmonic intervals.\n",
    "\n",
    "## To Build"
   ]
  },
  {
   "cell_type": "code",
   "execution_count": null,
   "metadata": {
    "vscode": {
     "languageId": "shellscript"
    }
   },
   "outputs": [],
   "source": [
    "%%sh\n",
    "make"
   ]
  },
  {
   "cell_type": "markdown",
   "metadata": {},
   "source": [
    "\n",
    "## Generate Counts\n",
    "\n",
    "We have already provided the count data in the file `chain_counts.txt`. This can be reproduced by running the following, which will generate the number of projected harmonic intervals for all combinations of n tasks in 1--30 and values k in 1--100, writing values to chain_counts.txt.\n",
    "\n",
    "***Note: This may take around a minute to run.***"
   ]
  },
  {
   "cell_type": "code",
   "execution_count": null,
   "metadata": {
    "vscode": {
     "languageId": "shellscript"
    }
   },
   "outputs": [],
   "source": [
    "%%sh\n",
    "./enumerate_phi > chain_counts.txt"
   ]
  },
  {
   "cell_type": "markdown",
   "metadata": {},
   "source": [
    "Output column values are: `n k count`\n",
    "\n",
    "## Plot and Compare to Upper Bound\n",
    "\n",
    "The original figures can be obtained by opening and running `chain_counts.m` in MatLab.\n",
    "\n",
    "This will produce Fig. 4 (a) and (b) as well as another plot (not shown in the paper) of the ratio between the calculated number of PHIs and the upper bound from Theorem 4.\n",
    "\n",
    "It will also print the results to the console for n=30 and k=100.\n",
    "\n",
    "Alternatively, if MatLab is not available, the following steps will produce similar plots."
   ]
  },
  {
   "cell_type": "code",
   "execution_count": null,
   "metadata": {},
   "outputs": [],
   "source": [
    "#Import Packages\n",
    "\n",
    "import numpy as np\n",
    "import matplotlib.pyplot as plt\n",
    "from matplotlib import ticker"
   ]
  },
  {
   "cell_type": "code",
   "execution_count": null,
   "metadata": {},
   "outputs": [],
   "source": [
    "# Import Enumerated Data\n",
    "chain_counts = np.loadtxt(\"chain_counts.txt\")\n",
    "\n",
    "# Organize Data\n",
    "n = np.arange(2,31)\n",
    "k = np.arange(1,101)\n",
    "N, K = np.meshgrid(n,k)\n",
    "Counts = np.reshape(chain_counts[:,2], (n.size, k.size)).transpose()\n",
    "\n",
    "# Compute Upper Bound Per Theorem 4\n",
    "upperbound = K * (N - 1) ** np.floor(np.log2(K))\n",
    "\n",
    "# Because log scale on z-axis is painful\n",
    "logCounts = np.log10(Counts) \n",
    "logUpperbound = np.log10(upperbound)"
   ]
  },
  {
   "cell_type": "markdown",
   "metadata": {},
   "source": [
    "### Figure 4a\n",
    "\n",
    "The following code plots Figure 4a, indicating for task sets of size n from 2--30 and ratio of maximum to minimum period k from 1--100, the calculated number of projected harmonic intervals."
   ]
  },
  {
   "cell_type": "code",
   "execution_count": null,
   "metadata": {},
   "outputs": [],
   "source": [
    "name = \"chaincounts-count\"\n",
    "ax = plt.axes(projection='3d')\n",
    "ax.plot_surface(N,K,logCounts,cmap='viridis')\n",
    "ax.view_init(azim=230, elev=20)\n",
    "ax.set_zticks(np.log10([1,1E3,1E6]))\n",
    "ax.set_zticklabels([\"$10^0$\",\"$10^3$\",\"$10^6$\"])\n",
    "ax.set_xlabel(\"n\")\n",
    "ax.set_ylabel(\"k\")\n",
    "ax.set_zlabel(\"Number of PHIs\")\n",
    "plt.savefig(f\"{name}.eps\",bbox_inches='tight')\n",
    "plt.savefig(f\"{name}.png\",bbox_inches='tight')\n",
    "plt.show()"
   ]
  },
  {
   "cell_type": "markdown",
   "metadata": {},
   "source": [
    "### Figure 4b\n",
    "\n",
    "The following code plots Figure 4b, indicating for task sets of size n from 2--30 and ratio of maximum to minimum period k from 1--100, the maximum number of projected harmonic intervals according to the bound in Theorem 4."
   ]
  },
  {
   "cell_type": "code",
   "execution_count": null,
   "metadata": {},
   "outputs": [],
   "source": [
    "name = \"chaincounts-bound\"\n",
    "ax = plt.axes(projection='3d')\n",
    "ax.plot_surface(N,K,logUpperbound,cmap='viridis')\n",
    "ax.view_init(azim=230, elev=20)\n",
    "ax.set_zticks(np.log10([1,1E5,1E10]))\n",
    "ax.set_zticklabels([\"$10^0$\",\"$10^5$\",\"$10^{10}$\"])\n",
    "ax.set_xlabel(\"n\")\n",
    "ax.set_ylabel(\"k\")\n",
    "ax.set_zlabel(\"Number of PHIs\")\n",
    "plt.savefig(f\"{name}.eps\",bbox_inches='tight')\n",
    "plt.savefig(f\"{name}.png\",bbox_inches='tight')\n",
    "plt.show()"
   ]
  },
  {
   "cell_type": "markdown",
   "metadata": {},
   "source": [
    "### Statistics\n",
    "\n",
    "We also report a few additional statistics."
   ]
  },
  {
   "cell_type": "code",
   "execution_count": null,
   "metadata": {},
   "outputs": [],
   "source": [
    "from decimal import Decimal\n",
    "print(\"For n=30 and k=100:\")\n",
    "print(f\"Upper bound from Thm. 4: {Decimal(upperbound[99,28]):.1E}\")\n",
    "print(f\"Enumerated count: {Decimal(Counts[99,28]):.1E}\")\n",
    "print(f\"Ratio: {Decimal(upperbound[99,28]/Counts[99,28]):.0f}\")"
   ]
  }
 ],
 "metadata": {
  "kernelspec": {
   "display_name": "Python 3",
   "language": "python",
   "name": "python3"
  },
  "language_info": {
   "codemirror_mode": {
    "name": "ipython",
    "version": 3
   },
   "file_extension": ".py",
   "mimetype": "text/x-python",
   "name": "python",
   "nbconvert_exporter": "python",
   "pygments_lexer": "ipython3",
   "version": "3.8.10"
  }
 },
 "nbformat": 4,
 "nbformat_minor": 2
}
