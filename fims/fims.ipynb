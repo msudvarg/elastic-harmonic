{
 "cells": [
  {
   "cell_type": "markdown",
   "metadata": {},
   "source": [
    "# S.VI.B: FIMS\n",
    "\n",
    "This notebook plots and analyzes the results shown in Figure 7a -- 7f of Section VI.B: \"FIMS.\"\n",
    "\n",
    "To simplify reproducability of the artifact, we have created three slightly-modified copies of the FIMS software pipeline presented in:\n",
    "\n",
    "> D. Wang, J. Zhang, J. Buhler, and J. Wang, “Real-time analysis of aerosol size distributions with the fast integrated mobility spectrometer (FIMS),” in 41st Conference of American Association for Aerosol Research (AAAR), Oct. 2023. [Online]. Available: https://aaarabstracts.com/2023/view_abstract.php?pid=752 \n",
    "\n",
    "These include:\n",
    "* `fims_execution_time_profile`: Obtains execution times with `getrusage()` for each job iteration of all tasks.\n",
    "* `fims_elasticity_values_assignment`: \n",
    "* `fims_evaluate_online_adjustment`:\n",
    "\n",
    "## Build and Prepare System\n",
    "\n",
    "### Enable `sudo` Commands from Jupyter Notebook\n",
    "\n",
    "Several of the scripts in this notebook have to be run as `root`, e.g., to set real-time priorities. We use the `getpass` Python module to prompt for a password, then invoke `sudo` using `os.system`."
   ]
  },
  {
   "cell_type": "code",
   "execution_count": null,
   "metadata": {},
   "outputs": [],
   "source": [
    "import getpass\n",
    "import os\n",
    "password = getpass.getpass()\n",
    "def run_sudo(cmd) :\n",
    "    return os.system('echo %s | sudo -S %s' % (password, cmd))\n",
    "if run_sudo(\"su\") != 0 :\n",
    "    print(\"Entered password incorrect! Please run this cell again.\")\n"
   ]
  },
  {
   "cell_type": "markdown",
   "metadata": {},
   "source": [
    "### Install OpenCV\n",
    "\n",
    "***Note: The following script can be skipped on the provided virtual machine***\n",
    "\n",
    "Refer to the OpenCV installation tutorial for more detailed instrutions:\n",
    "https://docs.opencv.org/4.7.0/d7/d9f/tutorial_linux_install.html"
   ]
  },
  {
   "cell_type": "code",
   "execution_count": null,
   "metadata": {
    "vscode": {
     "languageId": "shellscript"
    }
   },
   "outputs": [],
   "source": [
    "%%sh\n",
    "\n",
    "# Download and unpack sources\n",
    "wget -O opencv.zip https://github.com/opencv/opencv/archive/4.7.0.zip\n",
    "wget -O opencv_contrib.zip https://github.com/opencv/opencv_contrib/archive/4.7.0.zip\n",
    "unzip opencv.zip\n",
    "unzip opencv_contrib.zip\n",
    "\n",
    "# Create build directory and switch into it\n",
    "mkdir -p build && cd build\n",
    "\n",
    "# Configure\n",
    "cmake -DOPENCV_EXTRA_MODULES_PATH=../opencv_contrib-4.7.0/modules ../opencv-4.7.0\n",
    "\n",
    "# Build\n",
    "make -j"
   ]
  },
  {
   "cell_type": "code",
   "execution_count": null,
   "metadata": {},
   "outputs": [],
   "source": [
    "# Install\n",
    "run_sudo(\"make install\")"
   ]
  },
  {
   "cell_type": "markdown",
   "metadata": {},
   "source": [
    "### Compile FIMS Code\n",
    "\n",
    "***Note: The following script can be skipped on the provided virtual machine***"
   ]
  },
  {
   "cell_type": "code",
   "execution_count": null,
   "metadata": {
    "vscode": {
     "languageId": "shellscript"
    }
   },
   "outputs": [],
   "source": [
    "%%sh\n",
    "\n",
    "# Compile Code for Profiling Execution Times\n",
    "cd fims_execution_time_profile\n",
    "mkdir -p build && cd build\n",
    "cmake ..\n",
    "make -j\n",
    "\n",
    "# Compile Code for Assigning Elasticity Values\n",
    "cd ../../fims_elasticity_values_assignment\n",
    "mkdir -p build && cd build\n",
    "cmake ..\n",
    "make -j\n",
    "\n",
    "# Compile Code for Evaluation of Online Adjustment\n",
    "cd ../../fims_evaluate_online_adjustment\n",
    "mkdir -p build && cd build\n",
    "cmake ..\n",
    "make -j\n",
    "\n",
    "# Compile Code for Interference Task\n",
    "cd ../../overhead\n",
    "make"
   ]
  },
  {
   "cell_type": "markdown",
   "metadata": {},
   "source": [
    "### Disable Throttling\n",
    "\n",
    "CPU throttling and real-time scheduler throttling were disabled for our experiments. The following settings were used.\n",
    "\n",
    "*** Note that this is optional, and not required for correct functionality (though is required to faithfully reproduce timing results on a real system). ***"
   ]
  },
  {
   "cell_type": "code",
   "execution_count": null,
   "metadata": {},
   "outputs": [],
   "source": [
    "run_sudo(\"sh -c 'echo -1 > /proc/sys/kernel/sched_rt_runtime_us'\")\n",
    "run_sudo(\"cpufreq-set -r -g performance\")"
   ]
  },
  {
   "cell_type": "markdown",
   "metadata": {},
   "source": [
    "## Profiling Execution Times\n",
    "\n",
    "We first profile the execution times of each FIMS pipeline task. We make calls to `getrusage()` when each job completes, measuring the total CPU time (user and system) consumed by the task since the end of the prior job. This accounts for execution of the task's function plus the overhead of context switching and timer handling. To capture worst-case conditional behavior, we force recalculation of the inversion matrix with each iteration of data inversion.\n",
    "\n",
    "The following code reproduces the results shown in Figure 7d -- 7f.\n",
    "\n",
    "\n",
    "### Obtain Execution Times\n",
    "\n",
    "We have already provided the results data in the files under `fims/fims_execution_time_profile/result_/execution_time_on_raspberrypi`. This can be reproduced by running the following.\n",
    "\n",
    "***Note that a single run takes around 20 minutes.***\n",
    "Provided data is from 10 runs each over two different aerosol datasets. To save time for the reviewers, the below code only performs a single run by default, though this can be controlled by changing the `run_times` variable."
   ]
  },
  {
   "cell_type": "code",
   "execution_count": null,
   "metadata": {},
   "outputs": [],
   "source": [
    "# Import Packages\n",
    "\n",
    "import os\n",
    "import time\n",
    "import sys\n",
    "import numpy as np\n",
    "import matplotlib.pyplot as plt\n",
    "import seaborn as sns"
   ]
  },
  {
   "cell_type": "code",
   "execution_count": null,
   "metadata": {},
   "outputs": [],
   "source": [
    "def enter_folder(folder) :\n",
    "    print(\"Currently in\", os.getcwd(), \"entering\", working_folder)\n",
    "    if os.getcwd()[-1*len(working_folder):] != working_folder :\n",
    "        os.chdir(working_folder)\n",
    "\n",
    "def leave_folder(folder) :\n",
    "    os.chdir(\"../\")\n",
    "    for _ in range(folder.count(\"/\")):\n",
    "        os.chdir(\"../\")\n",
    "    print(\"Back in\", os.getcwd())"
   ]
  },
  {
   "cell_type": "code",
   "execution_count": null,
   "metadata": {},
   "outputs": [],
   "source": [
    "# Change this to perform additional runs\n",
    "run_times = 1\n",
    "\n",
    "# Function to rename the folder and create a new one\n",
    "def manage_folders(old_folder, new_folder, i):\n",
    "    os.rename(old_folder, f\"{old_folder}_{i}\")\n",
    "    os.makedirs(new_folder, exist_ok=True)\n",
    "\n",
    "working_folder = \"fims_execution_time_profile/result_\"\n",
    "executable = \"../build/fims\"  \n",
    "result_folder = \"run_time\""
   ]
  },
  {
   "cell_type": "code",
   "execution_count": null,
   "metadata": {},
   "outputs": [],
   "source": [
    "# Enter execution time profiling folder\n",
    "enter_folder(working_folder)\n",
    "\n",
    "# Create result directory\n",
    "os.makedirs(result_folder, exist_ok=True)\n",
    "\n",
    "for i in range(0, run_times, 1):  # define how many time to run the code\n",
    "    print(f'start running {i} ...')\n",
    "    if run_sudo(executable) == 0:\n",
    "        print(f\"Run {i+1}: Success\")\n",
    "        # Rename the old folder and create a new one for the next run\n",
    "        manage_folders(result_folder, result_folder, i)\n",
    "    else:\n",
    "        print(f\"Run {i+1}: Failure\")\n",
    "\n",
    "    time.sleep(1)  # Optional: pause for 1 second between runs\n",
    "\n",
    "leave_folder(working_folder)"
   ]
  },
  {
   "cell_type": "markdown",
   "metadata": {},
   "source": [
    "Results are written into a collection of folders `fims/fims_execution_time_profile/result_/run_time_x`, with x indexing each run. Each file contains space-separated values corresponding to the execution time of each iteration of the corresponding task, in units of milliseconds. We use the times reported by `get_rusage()`, separately writing the system times (files ending in `_sys`) and user times (files ending in `_user`)."
   ]
  },
  {
   "cell_type": "markdown",
   "metadata": {},
   "source": [
    "### Plot and Analyze Results\n",
    "\n",
    "The following code plots Figure 7d--7f, showing execution time distributions.\n",
    "\n",
    "We provide the ability to either plot the original data or data newly-generated by the above steps."
   ]
  },
  {
   "cell_type": "code",
   "execution_count": null,
   "metadata": {},
   "outputs": [],
   "source": [
    "def plot_execution_times(data, data2) :\n",
    "    \n",
    "    for i in range(len(data)):\n",
    "        data[i] = data[i] + data2[i]\n",
    "\n",
    "    components = ['image_processing', 'data_inversion', 'hk_reading']\n",
    "    titles = ['(d) FIMS: Image', '(f) FIMS: Inversion', '(e) FIMS: HK']\n",
    "\n",
    "    # Define a palette\n",
    "    colors = sns.color_palette(\"deep\", 5)\n",
    "\n",
    "    # Use the fivethirtyeight style\n",
    "    plt.style.use('fivethirtyeight')\n",
    "\n",
    "    for i, d in enumerate(data):\n",
    "        fig, ax = plt.subplots(figsize=(4.6, 2.5))\n",
    "        ax.hist(d, bins=30, density=True, alpha=0.8, edgecolor='black', linewidth=1.5, color=colors[i])\n",
    "        ax.set_yscale('log')\n",
    "        ax.set_xlabel('Execution Time (ms)', )\n",
    "        ax.set_ylabel('Frequency')\n",
    "        plt.tight_layout()\n",
    "        fig.savefig(f'{components[i]}_execution_time.png')\n",
    "        fig.savefig(f'{components[i]}_execution_time.eps')\n",
    "        plt.show() \n",
    "        maximum = np.max(data[i])\n",
    "        print(f'{titles[i]} (max {maximum}ms)')"
   ]
  },
  {
   "cell_type": "markdown",
   "metadata": {},
   "source": [
    "#### Plot Original Results\n",
    "\n",
    "Plots results obtained for the paper from the files under `fims/fims_execution_time_profile/result_/execution_time_on_raspberrypi`."
   ]
  },
  {
   "cell_type": "code",
   "execution_count": null,
   "metadata": {},
   "outputs": [],
   "source": [
    "# Enter execution time profiling folder\n",
    "working_folder = \"fims_execution_time_profile/result_/execution_time_on_raspberrypi\"\n",
    "enter_folder(working_folder)\n",
    "\n",
    "# Process userspace time\n",
    "file_name = 'sparse'\n",
    "file_name2 = 'dense'\n",
    "path = ['/image_process_cost_user.txt', '/inversion_time_user.txt', '/hk_reading_time_user.txt']\n",
    "data = []\n",
    "for p in path:\n",
    "    data1 = []\n",
    "    for i in range(1, 11, 1):\n",
    "        file = 'run_time_' + file_name + '_' + str(i) + p\n",
    "        cur_data = np.loadtxt(file)\n",
    "        data1 = np.concatenate((data1, cur_data[1:]))\n",
    "        if p == '/image_process_cost_user.txt':\n",
    "            file = 'run_time_' + file_name2 + '_' + str(i) + p\n",
    "            cur_data = np.loadtxt(file)\n",
    "            data1 = np.concatenate((data1, cur_data[1:]))\n",
    "    data.append(data1)\n",
    "\n",
    "# Process system time\n",
    "path_sys = ['/image_process_cost_sys.txt', '/inversion_time_sys.txt', '/hk_reading_time_sys.txt']\n",
    "data2 = []\n",
    "for p in path_sys:\n",
    "    data1 = []\n",
    "    for i in range(1, 11, 1):\n",
    "        file = 'run_time_' + file_name + '_' + str(i) + p\n",
    "        cur_data = np.loadtxt(file)\n",
    "        data1 = np.concatenate((data1, cur_data[1:]))\n",
    "        if p == '/image_process_cost_sys.txt':\n",
    "            file = 'run_time_' + file_name2 + '_' + str(i) + p\n",
    "            cur_data = np.loadtxt(file)\n",
    "            data1 = np.concatenate((data1, cur_data[1:]))\n",
    "\n",
    "    data2.append(data1)\n",
    "\n",
    "# Plot\n",
    "plot_execution_times(data,data2)\n",
    "\n",
    "leave_folder(working_folder)"
   ]
  },
  {
   "cell_type": "markdown",
   "metadata": {},
   "source": [
    "#### Plot Newly-Obtained Results\n",
    "\n",
    "Plots new results obtained from running the above profiling steps."
   ]
  },
  {
   "cell_type": "code",
   "execution_count": null,
   "metadata": {},
   "outputs": [],
   "source": [
    "# Enter execution time profiling folder\n",
    "working_folder = \"fims_execution_time_profile/result_\"\n",
    "enter_folder(working_folder)\n",
    "\n",
    "# Process userspace time\n",
    "path = ['/image_process_time_user.txt', '/inversion_time_user.txt', '/hk_reading_time_user.txt']\n",
    "data = []\n",
    "for p in path:\n",
    "    data1 = []\n",
    "    for i in range(0, run_times, 1):\n",
    "        file = 'run_time_' + str(i) + p\n",
    "        cur_data = np.loadtxt(file)\n",
    "        data1 = np.concatenate((data1, cur_data[1:]))\n",
    "    data.append(data1)\n",
    "\n",
    "# Process system time\n",
    "path_sys = ['/image_process_time_sys.txt', '/inversion_time_sys.txt', '/hk_reading_time_sys.txt']\n",
    "data2 = []\n",
    "for p in path_sys:\n",
    "    data1 = []\n",
    "    for i in range(0, run_times, 1):\n",
    "        file = 'run_time_' + str(i) + p\n",
    "        cur_data = np.loadtxt(file)\n",
    "        data1 = np.concatenate((data1, cur_data[1:]))\n",
    "    data2.append(data1)\n",
    "\n",
    "# Plot\n",
    "plot_execution_times(data,data2)\n",
    "\n",
    "leave_folder(working_folder)"
   ]
  }
 ],
 "metadata": {
  "kernelspec": {
   "display_name": "Python 3",
   "language": "python",
   "name": "python3"
  },
  "language_info": {
   "codemirror_mode": {
    "name": "ipython",
    "version": 3
   },
   "file_extension": ".py",
   "mimetype": "text/x-python",
   "name": "python",
   "nbconvert_exporter": "python",
   "pygments_lexer": "ipython3",
   "version": "3.8.10"
  }
 },
 "nbformat": 4,
 "nbformat_minor": 2
}
