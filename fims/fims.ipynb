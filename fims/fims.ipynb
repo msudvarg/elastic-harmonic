{
 "cells": [
  {
   "cell_type": "markdown",
   "metadata": {},
   "source": [
    "# S.VI.B: FIMS\n",
    "\n",
    "This notebook plots and analyzes the results shown in Figure 7a -- 7f of Section VI.B: \"FIMS.\"\n",
    "\n",
    "To simplify reproducability of the artifact, we have created three slightly-modified copies of the FIMS software pipeline presented in:\n",
    "\n",
    "> D. Wang, J. Zhang, J. Buhler, and J. Wang, “Real-time analysis of aerosol size distributions with the fast integrated mobility spectrometer (FIMS),” in 41st Conference of American Association for Aerosol Research (AAAR), Oct. 2023. [Online]. Available: https://aaarabstracts.com/2023/view_abstract.php?pid=752 \n",
    "\n",
    "These include:\n",
    "* `fims_execution_time_profile`: Obtains execution times with `getrusage()` for each job iteration of all tasks.\n",
    "* `fims_elasticity_values_assignment`: \n",
    "* `fims_evaluate_online_adjustment`:\n",
    "\n",
    "## Build\n",
    "\n",
    "### Install OpenCV\n",
    "\n",
    "***Note: The following script can be skipped on the provided virtual machine***\n",
    "\n",
    "Refer to the OpenCV installation tutorial for more detailed instrutions:\n",
    "https://docs.opencv.org/4.7.0/d7/d9f/tutorial_linux_install.html"
   ]
  },
  {
   "cell_type": "code",
   "execution_count": null,
   "metadata": {
    "vscode": {
     "languageId": "shellscript"
    }
   },
   "outputs": [],
   "source": [
    "%%sh\n",
    "\n",
    "# Download and unpack sources\n",
    "wget -O opencv.zip https://github.com/opencv/opencv/archive/4.7.0.zip\n",
    "wget -O opencv_contrib.zip https://github.com/opencv/opencv_contrib/archive/4.7.0.zip\n",
    "unzip opencv.zip\n",
    "unzip opencv_contrib.zip\n",
    "\n",
    "# Create build directory and switch into it\n",
    "mkdir -p build && cd build\n",
    "\n",
    "# Configure\n",
    "cmake -DOPENCV_EXTRA_MODULES_PATH=../opencv_contrib-4.7.0/modules ../opencv-4.7.0\n",
    "\n",
    "# Build\n",
    "make -j\n",
    "\n",
    "# Install\n",
    "sudo make install"
   ]
  },
  {
   "cell_type": "markdown",
   "metadata": {},
   "source": [
    "### Compile FIMS Code\n",
    "\n",
    "***Note: The following script can be skipped on the provided virtual machine***"
   ]
  },
  {
   "cell_type": "code",
   "execution_count": null,
   "metadata": {
    "vscode": {
     "languageId": "shellscript"
    }
   },
   "outputs": [],
   "source": [
    "%%sh\n",
    "\n",
    "# Compile Code for Profiling Execution Times\n",
    "cd fims_execution_time_profile\n",
    "mkdir build && cd build\n",
    "cmake ..\n",
    "make -j\n",
    "\n",
    "# Compile Code for Assigning Elasticity Values\n",
    "cd ../fims_elasticity_values_assignment\n",
    "mkdir build && cd build\n",
    "cmake ..\n",
    "make -j\n",
    "\n",
    "# Compile Code for Evaluation of Online Adjustment\n",
    "cd ../fims_evaluate_online_adjustment\n",
    "mkdir build && cd build\n",
    "cmake ..\n",
    "make -j\n",
    "\n",
    "# Compile Code for Interference Task\n",
    "cd ../overhead\n",
    "make"
   ]
  },
  {
   "cell_type": "markdown",
   "metadata": {},
   "source": [
    "## Profiling Execution Times\n",
    "\n",
    "We first profile the execution times of each FIMS pipeline task. We make calls to `getrusage()` when each job completes, measuring the total CPU time (user and system) consumed by the task since the end of the prior job. This accounts for execution of the task's function plus the overhead of context switching and timer handling. To capture worst-case conditional behavior, we force recalculation of the inversion matrix with each iteration of data inversion.\n",
    "\n",
    "The following code reproduces the results shown in Figure 7d -- 7f.\n",
    "\n",
    "### Obtain Execution Times\n",
    "\n"
   ]
  },
  {
   "cell_type": "code",
   "execution_count": null,
   "metadata": {},
   "outputs": [],
   "source": [
    "import subprocess\n",
    "import os\n",
    "import time\n",
    "import sys\n",
    "\n",
    "# Function to run the C++ program\n",
    "def run_cpp_program(command, executable):\n",
    "    command.append(executable)\n",
    "    result = subprocess.run(command, stdout=subprocess.PIPE, stderr=subprocess.PIPE)\n",
    "    return result.returncode == 0  \n",
    "\n",
    "# Function to rename the folder and create a new one\n",
    "def manage_folders(old_folder, new_folder, sh, i):\n",
    "    os.rename(old_folder, f\"{old_folder}_{sh}_{i}\")\n",
    "    os.makedirs(new_folder, exist_ok=True)\n",
    "\n",
    "\n",
    "run_times = 1\n",
    "if len(sys.argv) > 1:\n",
    "    try:\n",
    "        run_times = int(sys.argv[1]) \n",
    "    except ValueError:\n",
    "        print(\"Please provide a valid integer as the argument.\")\n",
    "        sys.exit(1) \n",
    "\n",
    "os.system(\"echo -1 > /proc/sys/kernel/sched_rt_runtime_us\")\n",
    "os.system(\"cpufreq-set -r -g performance\")\n",
    "\n",
    "\n",
    "executable = \"../build/fims\"  \n",
    "result_folder = \"run_time\"\n",
    "command = [\"sudo\"]\n",
    "\n",
    "for i in range(0, run_times, 1):  # define how many time to run the code\n",
    "    print(f'start running {i} ...')\n",
    "    if run_cpp_program(command, executable):\n",
    "        print(f\"Run {i+1}: Success\")\n",
    "        # Rename the old folder and create a new one for the next run\n",
    "        manage_folders(result_folder, result_folder, 'sparse', i)\n",
    "    else:\n",
    "        print(f\"Run {i+1}: Failure\")\n",
    "\n",
    "    time.sleep(1)  # Optional: pause for 1 second between runs\n",
    "\n",
    "\n",
    "\n"
   ]
  }
 ],
 "metadata": {
  "language_info": {
   "name": "python"
  }
 },
 "nbformat": 4,
 "nbformat_minor": 2
}
